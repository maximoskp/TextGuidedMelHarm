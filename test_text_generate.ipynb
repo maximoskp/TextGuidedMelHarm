{
 "cells": [
  {
   "cell_type": "code",
   "execution_count": 1,
   "metadata": {},
   "outputs": [
    {
     "name": "stderr",
     "output_type": "stream",
     "text": [
      "/home/maximos/miniconda3/envs/torch/lib/python3.12/site-packages/tqdm/auto.py:21: TqdmWarning: IProgress not found. Please update jupyter and ipywidgets. See https://ipywidgets.readthedocs.io/en/stable/user_install.html\n",
      "  from .autonotebook import tqdm as notebook_tqdm\n"
     ]
    }
   ],
   "source": [
    "from data_utils import SeparatedMelHarmTextDataset, MelHarmTextCollatorForSeq2Seq\n",
    "import os\n",
    "import numpy as np\n",
    "from harmony_tokenizers_m21 import ChordSymbolTokenizer, RootTypeTokenizer, \\\n",
    "    PitchClassTokenizer, RootPCTokenizer, GCTRootPCTokenizer, \\\n",
    "    GCTSymbolTokenizer, GCTRootTypeTokenizer, MelodyPitchTokenizer, \\\n",
    "    MergedMelHarmTokenizer\n",
    "from torch.utils.data import DataLoader\n",
    "from transformers import BartForConditionalGeneration, BartConfig, DataCollatorForSeq2Seq\n",
    "import torch\n",
    "from torch.optim import AdamW\n",
    "from transformers import get_scheduler\n",
    "from tqdm import tqdm\n",
    "import torch.nn as nn\n",
    "from transformers import RobertaModel, RobertaTokenizer\n",
    "from models import TextGuidedHarmonizationModel"
   ]
  },
  {
   "cell_type": "code",
   "execution_count": 2,
   "metadata": {},
   "outputs": [],
   "source": [
    "chordSymbolTokenizer = ChordSymbolTokenizer.from_pretrained('saved_tokenizers/ChordSymbolTokenizer')\n",
    "rootTypeTokenizer = RootTypeTokenizer.from_pretrained('saved_tokenizers/RootTypeTokenizer')\n",
    "pitchClassTokenizer = PitchClassTokenizer.from_pretrained('saved_tokenizers/PitchClassTokenizer')\n",
    "rootPCTokenizer = RootPCTokenizer.from_pretrained('saved_tokenizers/RootPCTokenizer')\n",
    "melodyPitchTokenizer = MelodyPitchTokenizer.from_pretrained('saved_tokenizers/MelodyPitchTokenizer')"
   ]
  },
  {
   "cell_type": "code",
   "execution_count": 3,
   "metadata": {},
   "outputs": [],
   "source": [
    "m_chordSymbolTokenizer = MergedMelHarmTokenizer(melodyPitchTokenizer, chordSymbolTokenizer)\n",
    "m_rootTypeTokenizer = MergedMelHarmTokenizer(melodyPitchTokenizer, rootTypeTokenizer)\n",
    "m_pitchClassTokenizer = MergedMelHarmTokenizer(melodyPitchTokenizer, pitchClassTokenizer)\n",
    "m_rootPCTokenizer = MergedMelHarmTokenizer(melodyPitchTokenizer, rootPCTokenizer)"
   ]
  },
  {
   "cell_type": "code",
   "execution_count": 4,
   "metadata": {},
   "outputs": [],
   "source": [
    "tokenizer = m_chordSymbolTokenizer\n",
    "tokenizer_name = 'ChordSymbolTokenizer'\n",
    "# tokenizer = m_rootTypeTokenizer\n",
    "# tokenizer_name = 'RootTypeTokenizer'\n",
    "# tokenizer = m_pitchClassTokenizer\n",
    "# tokenizer_name = 'PitchClassTokenizer'\n",
    "# tokenizer = m_rootPCTokenizer\n",
    "# tokenizer_name = 'RootPCTokenizer'\n",
    "\n",
    "description_mode = 'specific_chord'\n",
    "\n",
    "train_dir = '/media/maindisk/maximos/data/hooktheory_train'\n",
    "test_dir = '/media/maindisk/maximos/data/hooktheory_test'\n",
    "\n",
    "train_dataset = SeparatedMelHarmTextDataset(\n",
    "    train_dir,\n",
    "    tokenizer,\n",
    "    max_length=512,\n",
    "    num_bars=64,\n",
    "    description_mode=description_mode,\n",
    "    alteration=True\n",
    ")\n",
    "\n",
    "test_dataset = SeparatedMelHarmTextDataset(\n",
    "    test_dir,\n",
    "    tokenizer,\n",
    "    max_length=512,\n",
    "    num_bars=64,\n",
    "    description_mode=description_mode,\n",
    "    alteration=True\n",
    ")\n",
    "\n",
    "def create_data_collator(tokenizer, model):\n",
    "    return MelHarmTextCollatorForSeq2Seq(tokenizer=tokenizer, model=model, padding=True)\n",
    "# end create_data_collator"
   ]
  },
  {
   "cell_type": "code",
   "execution_count": 5,
   "metadata": {},
   "outputs": [],
   "source": [
    "# device = torch.device(\"cuda\" if torch.cuda.is_available() else \"cpu\")\n",
    "# device_name = 'cpu'\n",
    "device_name = 'cuda' if torch.cuda.is_available() else 'cpu'\n",
    "device = torch.device(device_name)"
   ]
  },
  {
   "cell_type": "code",
   "execution_count": 6,
   "metadata": {},
   "outputs": [
    {
     "name": "stderr",
     "output_type": "stream",
     "text": [
      "Some weights of RobertaModel were not initialized from the model checkpoint at roberta-base and are newly initialized: ['roberta.pooler.dense.bias', 'roberta.pooler.dense.weight']\n",
      "You should probably TRAIN this model on a down-stream task to be able to use it for predictions and inference.\n",
      "/home/maximos/miniconda3/envs/torch/lib/python3.12/site-packages/transformers/tokenization_utils_base.py:1617: FutureWarning: `clean_up_tokenization_spaces` was not set. It will be set to `True` by default. This behavior will be deprecated in transformers v4.45, and will be then set to `False` by default. For more details check this issue: https://github.com/huggingface/transformers/issues/31884\n",
      "  warnings.warn(\n"
     ]
    },
    {
     "data": {
      "text/plain": [
       "TextGuidedHarmonizationModel(\n",
       "  (roberta): RobertaModel(\n",
       "    (embeddings): RobertaEmbeddings(\n",
       "      (word_embeddings): Embedding(50265, 768, padding_idx=1)\n",
       "      (position_embeddings): Embedding(514, 768, padding_idx=1)\n",
       "      (token_type_embeddings): Embedding(1, 768)\n",
       "      (LayerNorm): LayerNorm((768,), eps=1e-05, elementwise_affine=True)\n",
       "      (dropout): Dropout(p=0.1, inplace=False)\n",
       "    )\n",
       "    (encoder): RobertaEncoder(\n",
       "      (layer): ModuleList(\n",
       "        (0-11): 12 x RobertaLayer(\n",
       "          (attention): RobertaAttention(\n",
       "            (self): RobertaSdpaSelfAttention(\n",
       "              (query): Linear(in_features=768, out_features=768, bias=True)\n",
       "              (key): Linear(in_features=768, out_features=768, bias=True)\n",
       "              (value): Linear(in_features=768, out_features=768, bias=True)\n",
       "              (dropout): Dropout(p=0.1, inplace=False)\n",
       "            )\n",
       "            (output): RobertaSelfOutput(\n",
       "              (dense): Linear(in_features=768, out_features=768, bias=True)\n",
       "              (LayerNorm): LayerNorm((768,), eps=1e-05, elementwise_affine=True)\n",
       "              (dropout): Dropout(p=0.1, inplace=False)\n",
       "            )\n",
       "          )\n",
       "          (intermediate): RobertaIntermediate(\n",
       "            (dense): Linear(in_features=768, out_features=3072, bias=True)\n",
       "            (intermediate_act_fn): GELUActivation()\n",
       "          )\n",
       "          (output): RobertaOutput(\n",
       "            (dense): Linear(in_features=3072, out_features=768, bias=True)\n",
       "            (LayerNorm): LayerNorm((768,), eps=1e-05, elementwise_affine=True)\n",
       "            (dropout): Dropout(p=0.1, inplace=False)\n",
       "          )\n",
       "        )\n",
       "      )\n",
       "    )\n",
       "    (pooler): RobertaPooler(\n",
       "      (dense): Linear(in_features=768, out_features=768, bias=True)\n",
       "      (activation): Tanh()\n",
       "    )\n",
       "  )\n",
       "  (bart): BartForConditionalGeneration(\n",
       "    (model): BartModel(\n",
       "      (shared): BartScaledWordEmbedding(545, 512, padding_idx=1)\n",
       "      (encoder): BartEncoder(\n",
       "        (embed_tokens): BartScaledWordEmbedding(545, 512, padding_idx=1)\n",
       "        (embed_positions): BartLearnedPositionalEmbedding(514, 512)\n",
       "        (layers): ModuleList(\n",
       "          (0-7): 8 x BartEncoderLayer(\n",
       "            (self_attn): BartSdpaAttention(\n",
       "              (k_proj): Linear(in_features=512, out_features=512, bias=True)\n",
       "              (v_proj): Linear(in_features=512, out_features=512, bias=True)\n",
       "              (q_proj): Linear(in_features=512, out_features=512, bias=True)\n",
       "              (out_proj): Linear(in_features=512, out_features=512, bias=True)\n",
       "            )\n",
       "            (self_attn_layer_norm): LayerNorm((512,), eps=1e-05, elementwise_affine=True)\n",
       "            (activation_fn): GELUActivation()\n",
       "            (fc1): Linear(in_features=512, out_features=512, bias=True)\n",
       "            (fc2): Linear(in_features=512, out_features=512, bias=True)\n",
       "            (final_layer_norm): LayerNorm((512,), eps=1e-05, elementwise_affine=True)\n",
       "          )\n",
       "        )\n",
       "        (layernorm_embedding): LayerNorm((512,), eps=1e-05, elementwise_affine=True)\n",
       "      )\n",
       "      (decoder): BartDecoder(\n",
       "        (embed_tokens): BartScaledWordEmbedding(545, 512, padding_idx=1)\n",
       "        (embed_positions): BartLearnedPositionalEmbedding(514, 512)\n",
       "        (layers): ModuleList(\n",
       "          (0-7): 8 x BartDecoderLayer(\n",
       "            (self_attn): BartSdpaAttention(\n",
       "              (k_proj): Linear(in_features=512, out_features=512, bias=True)\n",
       "              (v_proj): Linear(in_features=512, out_features=512, bias=True)\n",
       "              (q_proj): Linear(in_features=512, out_features=512, bias=True)\n",
       "              (out_proj): Linear(in_features=512, out_features=512, bias=True)\n",
       "            )\n",
       "            (activation_fn): GELUActivation()\n",
       "            (self_attn_layer_norm): LayerNorm((512,), eps=1e-05, elementwise_affine=True)\n",
       "            (encoder_attn): BartSdpaAttention(\n",
       "              (k_proj): Linear(in_features=512, out_features=512, bias=True)\n",
       "              (v_proj): Linear(in_features=512, out_features=512, bias=True)\n",
       "              (q_proj): Linear(in_features=512, out_features=512, bias=True)\n",
       "              (out_proj): Linear(in_features=512, out_features=512, bias=True)\n",
       "            )\n",
       "            (encoder_attn_layer_norm): LayerNorm((512,), eps=1e-05, elementwise_affine=True)\n",
       "            (fc1): Linear(in_features=512, out_features=512, bias=True)\n",
       "            (fc2): Linear(in_features=512, out_features=512, bias=True)\n",
       "            (final_layer_norm): LayerNorm((512,), eps=1e-05, elementwise_affine=True)\n",
       "          )\n",
       "        )\n",
       "        (layernorm_embedding): LayerNorm((512,), eps=1e-05, elementwise_affine=True)\n",
       "      )\n",
       "    )\n",
       "    (lm_head): Linear(in_features=512, out_features=545, bias=False)\n",
       "  )\n",
       "  (attn): MultiheadAttention(\n",
       "    (out_proj): NonDynamicallyQuantizableLinear(in_features=512, out_features=512, bias=True)\n",
       "  )\n",
       "  (lstm): LSTM(512, 512, batch_first=True)\n",
       "  (condition_proj): Linear(in_features=768, out_features=512, bias=True)\n",
       ")"
      ]
     },
     "execution_count": 6,
     "metadata": {},
     "output_type": "execute_result"
    }
   ],
   "source": [
    "bart_config = BartConfig(\n",
    "    vocab_size=len(tokenizer.vocab),\n",
    "    pad_token_id=tokenizer.pad_token_id,\n",
    "    bos_token_id=tokenizer.bos_token_id,\n",
    "    eos_token_id=tokenizer.eos_token_id,\n",
    "    decoder_start_token_id=tokenizer.bos_token_id,\n",
    "    forced_eos_token_id=tokenizer.eos_token_id,\n",
    "    max_position_embeddings=512,\n",
    "    encoder_layers=8,\n",
    "    encoder_attention_heads=8,\n",
    "    encoder_ffn_dim=512,\n",
    "    decoder_layers=8,\n",
    "    decoder_attention_heads=8,\n",
    "    decoder_ffn_dim=512,\n",
    "    d_model=512,\n",
    "    encoder_layerdrop=0.3,\n",
    "    decoder_layerdrop=0.3,\n",
    "    dropout=0.3\n",
    ")\n",
    "\n",
    "bart = BartForConditionalGeneration(bart_config)\n",
    "# bart_path = 'saved_models/bart/' + tokenizer_name + '/' + tokenizer_name + '.pt'\n",
    "# checkpoint = torch.load(bart_path, map_location=device_name, weights_only=True)\n",
    "# bart.load_state_dict(checkpoint)\n",
    "\n",
    "model = TextGuidedHarmonizationModel(bart, device=device)\n",
    "\n",
    "model_path = 'saved_models/bart_text_cvae/' + tokenizer_name + '/' +description_mode+'/' + tokenizer_name +'_' +description_mode+ '.pt'\n",
    "checkpoint = torch.load(model_path, map_location=device_name, weights_only=True)\n",
    "model.load_state_dict(checkpoint)\n",
    "\n",
    "model.to(device)\n",
    "model.eval()"
   ]
  },
  {
   "cell_type": "code",
   "execution_count": 7,
   "metadata": {},
   "outputs": [],
   "source": [
    "collator = create_data_collator(tokenizer, model=model.bart)"
   ]
  },
  {
   "cell_type": "code",
   "execution_count": 8,
   "metadata": {},
   "outputs": [],
   "source": [
    "trainloader = DataLoader(train_dataset, batch_size=1, shuffle=True, collate_fn=collator)\n",
    "valloader = DataLoader(test_dataset, batch_size=1, shuffle=True, collate_fn=collator)"
   ]
  },
  {
   "cell_type": "code",
   "execution_count": 9,
   "metadata": {},
   "outputs": [
    {
     "name": "stdout",
     "output_type": "stream",
     "text": [
      "dict_keys(['input_ids', 'attention_mask', 'labels', 'decoder_input_ids', 'txt', 'harmony_input_ids'])\n"
     ]
    },
    {
     "name": "stderr",
     "output_type": "stream",
     "text": [
      "/home/maximos/miniconda3/envs/torch/lib/python3.12/site-packages/music21/stream/base.py:3694: Music21DeprecationWarning: .flat is deprecated.  Call .flatten() instead\n",
      "  return self.iter().getElementsByClass(classFilterList)\n",
      "/home/maximos/miniconda3/envs/torch/lib/python3.12/site-packages/transformers/data/data_collator.py:656: UserWarning: Creating a tensor from a list of numpy.ndarrays is extremely slow. Please consider converting the list to a single numpy.ndarray with numpy.array() before converting to a tensor. (Triggered internally at ../torch/csrc/utils/tensor_new.cpp:275.)\n",
      "  batch[\"labels\"] = torch.tensor(batch[\"labels\"], dtype=torch.int64)\n",
      "/media/maindisk/maximos/repos/TextGuidedMelHarm/data_utils.py:166: UserWarning: To copy construct from a tensor, it is recommended to use sourceTensor.clone().detach() or sourceTensor.clone().detach().requires_grad_(True), rather than torch.tensor(sourceTensor).\n",
      "  [torch.tensor(h) for h in harmony_inputs],\n"
     ]
    }
   ],
   "source": [
    "b = next(iter(valloader))\n",
    "print(b.keys())"
   ]
  },
  {
   "cell_type": "code",
   "execution_count": 10,
   "metadata": {},
   "outputs": [
    {
     "name": "stdout",
     "output_type": "stream",
     "text": [
      "tensor([[16]])\n"
     ]
    }
   ],
   "source": [
    "num_bars = (b['input_ids'] == tokenizer.vocab['<bar>']).sum(dim=1).reshape(b['input_ids'].shape[0],-1)\n",
    "print(num_bars)\n",
    "outputs = model.generate(tokenizer, b['input_ids'], b['attention_mask'], b['txt'], max_length=500, num_bars=num_bars, temperature=1.0)"
   ]
  },
  {
   "cell_type": "code",
   "execution_count": 11,
   "metadata": {},
   "outputs": [
    {
     "name": "stdout",
     "output_type": "stream",
     "text": [
      "tensor([[  2, 196,   6,   6,  95,   6, 459,  95,   6, 459,  95,   6, 459,  95,\n",
      "           6, 459,  95,   6, 459,  95,   6, 459,  95, 107, 459, 459, 119,   6,\n",
      "         459,  95,   6, 454,  95, 107, 459, 459, 119, 107, 459, 459,   6,   6,\n",
      "          95,  95, 459, 459, 107,   6, 459,  95,   3]], device='cuda:0')\n"
     ]
    }
   ],
   "source": [
    "print(outputs)"
   ]
  },
  {
   "cell_type": "code",
   "execution_count": null,
   "metadata": {},
   "outputs": [],
   "source": [
    "output_tokens = []\n",
    "\n",
    "for i in outputs[0]:\n",
    "    output_tokens.append( tokenizer.ids_to_tokens[ int(i) ].replace(' ','x') )"
   ]
  },
  {
   "cell_type": "code",
   "execution_count": 13,
   "metadata": {},
   "outputs": [
    {
     "name": "stdout",
     "output_type": "stream",
     "text": [
      "['Bar number 1 begins with a G#:7(#11) chord.']\n",
      "['<s>', '<h>', '<bar>', '<bar>', 'position_0x00', '<bar>', 'A:min', 'position_0x00', '<bar>', 'A:min', 'position_0x00', '<bar>', 'A:min', 'position_0x00', '<bar>', 'A:min', 'position_0x00', '<bar>', 'A:min', 'position_0x00', '<bar>', 'A:min', 'position_0x00', 'position_1x50', 'A:min', 'A:min', 'position_3x00', '<bar>', 'A:min', 'position_0x00', '<bar>', 'G#:7(b9)', 'position_0x00', 'position_1x50', 'A:min', 'A:min', 'position_3x00', 'position_1x50', 'A:min', 'A:min', '<bar>', '<bar>', 'position_0x00', 'position_0x00', 'A:min', 'A:min', 'position_1x50', '<bar>', 'A:min', 'position_0x00', '</s>']\n"
     ]
    }
   ],
   "source": [
    "print(b['txt'])\n",
    "print(output_tokens)"
   ]
  },
  {
   "cell_type": "code",
   "execution_count": 15,
   "metadata": {},
   "outputs": [],
   "source": [
    "loss_output = model(\n",
    "    b['input_ids'].to(device),\n",
    "    b['attention_mask'].to(device),\n",
    "    b['harmony_input_ids'].to(device),\n",
    "    b['txt'],\n",
    "    labels=b['labels'].to(device)\n",
    ")"
   ]
  },
  {
   "cell_type": "code",
   "execution_count": 19,
   "metadata": {},
   "outputs": [
    {
     "name": "stdout",
     "output_type": "stream",
     "text": [
      "tensor(0.4857, device='cuda:0', grad_fn=<NllLossBackward0>)\n",
      "0.9090909090909091\n",
      "tensor([[196,   6,  95, 459,   6,  95, 459,   6,  95, 459,   6,  95, 459,   6,\n",
      "          95, 459,   6, 400,   6,  95, 342, 111, 342,   6,  95, 459, 111, 400,\n",
      "           6,  95, 314, 111, 342,   6,  95, 459, 111,  95, 459,   6,  95, 459,\n",
      "         111,  95, 314,   6,  95, 459, 111, 400,   6,  95, 314, 111, 342,   6,\n",
      "          95, 459, 111, 400,   6,  95, 314, 111, 342,   3, 111, 111, 111,   3,\n",
      "           6, 111,   6,   3,   6,   3,   6,   3,   6,   3,   6,   3, 111, 111,\n",
      "           6,   6,   6, 111,   6,   3,   6,   6, 111, 111, 111,   6,   6,   3,\n",
      "           6, 111,   6,   3, 111, 111,   6,   3, 111, 111, 111, 111, 111, 111,\n",
      "         111,   3,   6, 111, 111, 111,   6, 111, 111,   6,   6,   6,   6, 111,\n",
      "           6, 111, 111, 111,   6,   3,   6, 111,   6, 111, 111, 111,   6,   3,\n",
      "           6,   3,   6, 111, 111, 111, 111, 111, 111, 111,   6, 111,   6, 111,\n",
      "         111,   6,   6,   6,   6, 111, 111, 111,   6,   6, 111, 111,   6, 111,\n",
      "           6, 111,   6, 111,   6, 111,   6, 111,   6, 111,   6, 111,   6, 111,\n",
      "           6, 111, 111, 111, 111, 111, 111, 111, 111, 111, 111, 111,   6, 111,\n",
      "           6, 111, 111, 111, 111, 111, 111, 111, 111, 111,   6, 111, 111, 111,\n",
      "         111, 111, 111, 111, 111, 111, 111,   3, 111, 111,   6, 111, 111, 111,\n",
      "         111, 111, 111, 111,   6, 111,   6, 111,   6,   3,   6, 111,   6, 111,\n",
      "         111, 111, 111, 111, 111, 111, 111, 111, 111, 111, 111, 111,   6, 111,\n",
      "           6, 111, 111,   3,   6, 111,   6, 111, 111, 111,   6, 111, 111, 111,\n",
      "           6,   6,   6, 111,   6,   6,   6, 111, 111, 111, 111, 111, 111,   6]],\n",
      "       device='cuda:0')\n"
     ]
    }
   ],
   "source": [
    "print(loss_output['loss'])\n",
    "predictions = loss_output['logits'].argmax(dim=-1)\n",
    "mask = b['labels'] != -100\n",
    "running_accuracy = (predictions[mask] == b['labels'][mask].to(device)).sum().item()/mask.sum().item()\n",
    "print(running_accuracy)\n",
    "print(predictions)"
   ]
  },
  {
   "cell_type": "code",
   "execution_count": 22,
   "metadata": {},
   "outputs": [],
   "source": [
    "prediction_tokens = []\n",
    "label_tokens = []\n",
    "\n",
    "for i in predictions[0]:\n",
    "    prediction_tokens.append( tokenizer.ids_to_tokens[ int(i) ].replace(' ','x') )\n",
    "for i in b['labels'][0]:\n",
    "    if i >= 0:\n",
    "        label_tokens.append( tokenizer.ids_to_tokens[ int(i) ].replace(' ','x') )"
   ]
  },
  {
   "cell_type": "code",
   "execution_count": 23,
   "metadata": {},
   "outputs": [
    {
     "name": "stdout",
     "output_type": "stream",
     "text": [
      "['<h>', '<bar>', 'position_0x00', 'A:min', '<bar>', 'position_0x00', 'G#:7(#11)', '<bar>', 'position_0x00', 'A:min', '<bar>', 'position_0x00', 'A:min', '<bar>', 'position_0x00', 'A:min', 'position_2x00', 'G:maj', '<bar>', 'position_0x00', 'E:min', 'position_2x00', 'F:maj', '<bar>', 'position_0x00', 'A:min', 'position_2x00', 'G:maj', '<bar>', 'position_0x00', 'E:min', 'position_2x00', 'F:maj', '<bar>', 'position_0x00', 'A:min', '<bar>', 'position_0x00', 'A:min', '<bar>', 'position_0x00', 'A:min', '<bar>', 'position_0x00', 'A:min', '<bar>', 'position_0x00', 'A:min', 'position_2x00', 'G:maj', '<bar>', 'position_0x00', 'E:min', 'position_2x00', 'F:maj', '<bar>', 'position_0x00', 'A:min', 'position_2x00', 'G:maj', '<bar>', 'position_0x00', 'E:min', 'position_2x00', 'F:maj', '</s>']\n",
      "['<h>', '<bar>', 'position_0x00', 'A:min', '<bar>', 'position_0x00', 'A:min', '<bar>', 'position_0x00', 'A:min', '<bar>', 'position_0x00', 'A:min', '<bar>', 'position_0x00', 'A:min', '<bar>', 'G:maj', '<bar>', 'position_0x00', 'F:maj', 'position_2x00', 'F:maj', '<bar>', 'position_0x00', 'A:min', 'position_2x00', 'G:maj', '<bar>', 'position_0x00', 'E:min', 'position_2x00', 'F:maj', '<bar>', 'position_0x00', 'A:min', 'position_2x00', 'position_0x00', 'A:min', '<bar>', 'position_0x00', 'A:min', 'position_2x00', 'position_0x00', 'E:min', '<bar>', 'position_0x00', 'A:min', 'position_2x00', 'G:maj', '<bar>', 'position_0x00', 'E:min', 'position_2x00', 'F:maj', '<bar>', 'position_0x00', 'A:min', 'position_2x00', 'G:maj', '<bar>', 'position_0x00', 'E:min', 'position_2x00', 'F:maj', '</s>', 'position_2x00', 'position_2x00', 'position_2x00', '</s>', '<bar>', 'position_2x00', '<bar>', '</s>', '<bar>', '</s>', '<bar>', '</s>', '<bar>', '</s>', '<bar>', '</s>', 'position_2x00', 'position_2x00', '<bar>', '<bar>', '<bar>', 'position_2x00', '<bar>', '</s>', '<bar>', '<bar>', 'position_2x00', 'position_2x00', 'position_2x00', '<bar>', '<bar>', '</s>', '<bar>', 'position_2x00', '<bar>', '</s>', 'position_2x00', 'position_2x00', '<bar>', '</s>', 'position_2x00', 'position_2x00', 'position_2x00', 'position_2x00', 'position_2x00', 'position_2x00', 'position_2x00', '</s>', '<bar>', 'position_2x00', 'position_2x00', 'position_2x00', '<bar>', 'position_2x00', 'position_2x00', '<bar>', '<bar>', '<bar>', '<bar>', 'position_2x00', '<bar>', 'position_2x00', 'position_2x00', 'position_2x00', '<bar>', '</s>', '<bar>', 'position_2x00', '<bar>', 'position_2x00', 'position_2x00', 'position_2x00', '<bar>', '</s>', '<bar>', '</s>', '<bar>', 'position_2x00', 'position_2x00', 'position_2x00', 'position_2x00', 'position_2x00', 'position_2x00', 'position_2x00', '<bar>', 'position_2x00', '<bar>', 'position_2x00', 'position_2x00', '<bar>', '<bar>', '<bar>', '<bar>', 'position_2x00', 'position_2x00', 'position_2x00', '<bar>', '<bar>', 'position_2x00', 'position_2x00', '<bar>', 'position_2x00', '<bar>', 'position_2x00', '<bar>', 'position_2x00', '<bar>', 'position_2x00', '<bar>', 'position_2x00', '<bar>', 'position_2x00', '<bar>', 'position_2x00', '<bar>', 'position_2x00', '<bar>', 'position_2x00', 'position_2x00', 'position_2x00', 'position_2x00', 'position_2x00', 'position_2x00', 'position_2x00', 'position_2x00', 'position_2x00', 'position_2x00', 'position_2x00', '<bar>', 'position_2x00', '<bar>', 'position_2x00', 'position_2x00', 'position_2x00', 'position_2x00', 'position_2x00', 'position_2x00', 'position_2x00', 'position_2x00', 'position_2x00', '<bar>', 'position_2x00', 'position_2x00', 'position_2x00', 'position_2x00', 'position_2x00', 'position_2x00', 'position_2x00', 'position_2x00', 'position_2x00', 'position_2x00', '</s>', 'position_2x00', 'position_2x00', '<bar>', 'position_2x00', 'position_2x00', 'position_2x00', 'position_2x00', 'position_2x00', 'position_2x00', 'position_2x00', '<bar>', 'position_2x00', '<bar>', 'position_2x00', '<bar>', '</s>', '<bar>', 'position_2x00', '<bar>', 'position_2x00', 'position_2x00', 'position_2x00', 'position_2x00', 'position_2x00', 'position_2x00', 'position_2x00', 'position_2x00', 'position_2x00', 'position_2x00', 'position_2x00', 'position_2x00', 'position_2x00', '<bar>', 'position_2x00', '<bar>', 'position_2x00', 'position_2x00', '</s>', '<bar>', 'position_2x00', '<bar>', 'position_2x00', 'position_2x00', 'position_2x00', '<bar>', 'position_2x00', 'position_2x00', 'position_2x00', '<bar>', '<bar>', '<bar>', 'position_2x00', '<bar>', '<bar>', '<bar>', 'position_2x00', 'position_2x00', 'position_2x00', 'position_2x00', 'position_2x00', 'position_2x00', '<bar>']\n"
     ]
    }
   ],
   "source": [
    "print(label_tokens)\n",
    "print(prediction_tokens)"
   ]
  }
 ],
 "metadata": {
  "kernelspec": {
   "display_name": "torch",
   "language": "python",
   "name": "python3"
  },
  "language_info": {
   "codemirror_mode": {
    "name": "ipython",
    "version": 3
   },
   "file_extension": ".py",
   "mimetype": "text/x-python",
   "name": "python",
   "nbconvert_exporter": "python",
   "pygments_lexer": "ipython3",
   "version": "3.12.2"
  }
 },
 "nbformat": 4,
 "nbformat_minor": 2
}
